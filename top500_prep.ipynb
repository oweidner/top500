{
 "cells": [
  {
   "cell_type": "code",
   "execution_count": 1,
   "metadata": {},
   "outputs": [],
   "source": [
    "import pandas as pd"
   ]
  },
  {
   "cell_type": "code",
   "execution_count": 2,
   "metadata": {},
   "outputs": [],
   "source": [
    "# Convert from individual Excel sheets to a single CSV file via DataFrame. \n",
    "#\n",
    "raw_data = pd.DataFrame()\n",
    "\n",
    "sheet_names = pd.ExcelFile('./data/top500_raw.xls').sheet_names\n",
    "\n",
    "for sheet in sheet_names:\n",
    "    sdata = pd.read_excel('./data/top500_raw.xls', sheet_name=str(sheet))\n",
    "    sdata['Sheet'] = str(sheet).split()[1]\n",
    "    raw_data = raw_data.append(sdata)\n",
    "\n",
    "raw_data.to_csv('./data/top500_raw.csv', index=False)"
   ]
  },
  {
   "cell_type": "code",
   "execution_count": 4,
   "metadata": {},
   "outputs": [],
   "source": [
    "# Cleanup RAW data and write to a separate CSV file\n",
    "#\n",
    "top500_raw = pd.read_csv('./data/top500_raw.csv', low_memory=False)\n",
    "\n",
    "# NOTE: In Pandas we have the inate property that NaN != NaN\n",
    "#       so a == a will return False if a is NaN.\n",
    "#       -> https://stackoverflow.com/questions/50468494\n",
    "\n",
    "for i, row in top500_raw.iterrows():\n",
    "    \n",
    "    # Convert Rmax [TFlop/s] row to GFlops/s and write to 'Rmax' column\n",
    "    if row['Rmax [TFlop/s]'] == row['Rmax [TFlop/s]']:\n",
    "        top500_raw.at[i, 'Rmax'] = (row['Rmax [TFlop/s]'] * 1000.0)\n",
    "        \n",
    "    # Convert Rpeak [TFlop/s] row to GFlops/s and write to 'Rpeak' column\n",
    "    if row['Rpeak [TFlop/s]'] == row['Rpeak [TFlop/s]']:\n",
    "        top500_raw.at[i, 'Rpeak'] = (row['Rpeak [TFlop/s]'] * 1000.0)\n",
    "        \n",
    "    # Copy values from 'RMax' column to 'Rmax' column\n",
    "    if row['RMax'] == row['RMax']:\n",
    "        top500_raw.at[i, 'Rmax'] = (row['RMax'])\n",
    "        \n",
    "    # Copy values from 'RPeak' column to 'Rpeak' column\n",
    "    if row['RPeak'] == row['RPeak']:\n",
    "        top500_raw.at[i, 'Rpeak'] = (row['RPeak'])\n",
    "        \n",
    "    # Copy values from 'Effeciency (%)' column to 'Efficiency (%)' column\n",
    "    if row['Effeciency (%)'] == row['Effeciency (%)']:\n",
    "        top500_raw.at[i, 'Efficiency (%)'] = (row['Effeciency (%)'])\n",
    "        \n",
    "    # Copy values from 'Total Cores' column to 'Cores' column\n",
    "    if row['Total Cores'] == row['Total Cores']:\n",
    "        top500_raw.at[i, 'Cores'] = (row['Total Cores'])\n",
    "        \n",
    "    # It seems that \"Processors\" (defined 1993 - 2008) is equivalent with cores\n",
    "    # Copy values from 'Processors' column to 'Cores' column\n",
    "    if row['Processors'] == row['Processors']:\n",
    "        top500_raw.at[i, 'Cores'] = (row['Processors'])\n",
    "        \n",
    "# Remove redundant columns\n",
    "del top500_raw['Rmax [TFlop/s]']\n",
    "del top500_raw['RMax']\n",
    "del top500_raw['Rpeak [TFlop/s]']\n",
    "del top500_raw['RPeak']\n",
    "del top500_raw['Effeciency (%)']\n",
    "del top500_raw['Total Cores']\n",
    "del top500_raw['Processors']\n",
    "\n",
    "top500_raw.to_csv('./data/top500_cleaned.csv', index=False)"
   ]
  }
 ],
 "metadata": {
  "kernelspec": {
   "display_name": "Python 3",
   "language": "python",
   "name": "python3"
  },
  "language_info": {
   "codemirror_mode": {
    "name": "ipython",
    "version": 3
   },
   "file_extension": ".py",
   "mimetype": "text/x-python",
   "name": "python",
   "nbconvert_exporter": "python",
   "pygments_lexer": "ipython3",
   "version": "3.8.8"
  }
 },
 "nbformat": 4,
 "nbformat_minor": 4
}
